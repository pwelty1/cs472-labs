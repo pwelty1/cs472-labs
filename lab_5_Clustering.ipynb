{
 "cells": [
  {
   "cell_type": "markdown",
   "metadata": {
    "id": "DVL7_bgmIAPR"
   },
   "source": [
    "# Unsupervised Learning: Clustering Lab\n",
    "\n",
    "\n",
    "\n"
   ]
  },
  {
   "cell_type": "code",
   "execution_count": 202,
   "metadata": {
    "id": "6ZbYjZZZ_yLV"
   },
   "outputs": [],
   "source": [
    "from sklearn.base import BaseEstimator, ClassifierMixin, ClusterMixin\n",
    "from sklearn.cluster import AgglomerativeClustering as AC, KMeans\n",
    "from sklearn.datasets import load_iris\n",
    "from sklearn.metrics import silhouette_score, adjusted_mutual_info_score as mis\n",
    "import numpy as np\n",
    "import matplotlib.pyplot as plt\n",
    "import pandas as pd\n",
    "from scipy.io import arff\n",
    "from scipy.spatial.distance import cdist\n",
    "from itertools import combinations"
   ]
  },
  {
   "cell_type": "markdown",
   "metadata": {
    "id": "sCcEPx5VIORj"
   },
   "source": [
    "## 1. (50%) Implement the k-means clustering algorithm and the HAC (Hierarchical Agglomerative Clustering) algorithm.\n",
    "\n",
    "### 1.1.1 HAC\n",
    "\n",
    "### Code requirements \n",
    "- HAC should support both single link and complete link options.\n",
    "- HAC automatically generates all clusterings from n to 1.  To simplify the amount of output you may want to implement a mechanism to specify for which k values actual output will be generated.\n",
    "\n",
    "\n",
    "---\n",
    "The output should include the following:\n",
    "- The number of clusters (k).\n",
    "- The total SSE of the full clustering. \n",
    "\n",
    "\n",
    "For each cluster report include:\n",
    "\n",
    "\n",
    "- The centroid id.\n",
    "- The number of instances tied to that centroid. \n",
    "* The SSE of that cluster. (The sum squared error (SSE) of a single cluster is the sum of the squared euclidean distance of each cluster member to the cluster centroid.)\n",
    "---\n",
    "You only need to handle continuous features"
   ]
  },
  {
   "cell_type": "code",
   "execution_count": 233,
   "metadata": {
    "id": "_a2KSZ_7AN0G"
   },
   "outputs": [],
   "source": [
    "class HACClustering(BaseEstimator,ClusterMixin):\n",
    "    def __init__(self,k=3,link_type='single'): ## add parameters here\n",
    "        \"\"\"\n",
    "        Args:\n",
    "            k = how many final clusters to have\n",
    "            link_type = single or complete. when combining two clusters use complete link or single link\n",
    "        \"\"\"\n",
    "        self.link_type = link_type\n",
    "        self.k = k\n",
    "    def fit(self,X,y=None,normalize = True):\n",
    "        \"\"\" Fit the data; In this lab this will make the K clusters :D\n",
    "        Args:\n",
    "            X (array-like): A 2D numpy array with the training data\n",
    "            y (array-like): An optional argument. Clustering is usually unsupervised so you don’t need labels\n",
    "        Returns:\n",
    "            self: this allows this to be chained, e.g. model.fit(X,y).predict(X_test)\n",
    "        \"\"\"\n",
    "        n = X.shape[0]\n",
    "        m = X.shape[1]\n",
    "        if normalize:\n",
    "            minx = np.min(X,axis = 0)\n",
    "            maxx = np.max(X,axis = 0)\n",
    "            X = (X-minx)/(maxx-minx)\n",
    "        D = cdist(X,X) + np.eye(n)*99\n",
    "        n_clusters = n\n",
    "        cur_labels = np.arange(n)\n",
    "        if self.link_type == 'single':\n",
    "            while n_clusters > self.k:\n",
    "                try:\n",
    "                    i,j = np.where(D==np.min(D))[0]\n",
    "                except:\n",
    "                    #print(np.where(D == np.min(D)))\n",
    "                    i, j = np.where(D== np.min(D))[0][0], np.where(D == np.min(D))[1][0]\n",
    "                cur_labels[cur_labels == cur_labels[j]] = cur_labels[i]\n",
    "                #print(np.round(D,3))\n",
    "                D[i,j] = 99\n",
    "                D[j,i] = 99\n",
    "                #print(cur_labels)\n",
    "                n_clusters = np.unique(cur_labels).shape[0]\n",
    "        else:\n",
    "            while n_clusters > self.k:\n",
    "                #print(n_clusters,end = ' ’)\n",
    "                combos = combinations(np.unique(cur_labels),2)\n",
    "                combis = []\n",
    "                #print(combos)\n",
    "                dists = []\n",
    "                for ci, cj in combos:\n",
    "                    combis.append([ci,cj])\n",
    "                    ci_indices = np.where(cur_labels == ci)[0]\n",
    "                    cj_indices = np.where(cur_labels == cj)[0]\n",
    "                    #print(D)\n",
    "                    #print(D[ci_indices,cj_indices])\n",
    "                    dists.append(np.max([[D[ci_index,cj_index] for ci_index in ci_indices] for cj_index in cj_indices]))\n",
    "                #print(dists)\n",
    "                #print(np.argmin(dists))\n",
    "                merge_i, merge_j = list(combis)[np.argmin(dists)]\n",
    "                cur_labels[cur_labels == cur_labels[merge_j]] = cur_labels[merge_i]\n",
    "                #print(np.round(D,3))\n",
    "                #D[i,j] = 99\n",
    "                #D[j,i] = 99\n",
    "                #print(cur_labels)\n",
    "                n_clusters = np.unique(cur_labels).shape[0]\n",
    "        #print(n_clusters)\n",
    "        #print(cur_labels)\n",
    "        cts = np.zeros(self.k)\n",
    "        sses = np.zeros(self.k)\n",
    "        centroids = np.zeros((self.k,m))\n",
    "        for i,l in enumerate(np.unique(cur_labels)):\n",
    "            cts[i] = cur_labels[cur_labels == l].shape[0]\n",
    "            centroids[i] = np.mean(X[cur_labels ==l],axis = 0)\n",
    "            self.centroids = centroids\n",
    "        for i,x in enumerate(X):\n",
    "            l = cur_labels[i]\n",
    "            ind = list(np.unique(cur_labels)).index(l)\n",
    "            sses[ind] += np.linalg.norm(x-self.centroids[ind])**2\n",
    "        self.cts = cts\n",
    "        self.sses = sses\n",
    "        #print(self.cts)\n",
    "        #print(self.centroids)\n",
    "        #print(self.sses)\n",
    "        return self\n",
    "\n",
    "    def print_clusters(self):\n",
    "        \"\"\"\n",
    "            Used for grading.\n",
    "            print(\"{:d}\\n\".format(k))\n",
    "            print(\"{:.4f}\\n\\n\".format(total SSE))\n",
    "            for each cluster and centroid:\n",
    "                print(np.array2string(centroid,precision=4,separator=\",\"))\n",
    "                print(\"\\n\")\n",
    "                print(\"{:d}\\n\".format(size of cluster))\n",
    "                print(\"{:.4f}\\n\\n\".format(SSE of cluster))\n",
    "        \"\"\"\n",
    "        print(\"{:d}\".format(self.k))\n",
    "        print(\"{:.4f}\\n\".format(np.sum(self.sses)))\n",
    "        i = 0\n",
    "        for ct, cent in zip(self.cts, self.centroids):\n",
    "            print(np.array2string(cent,precision=4,separator=\",\"))\n",
    "            print(f\"{int(ct)}\")\n",
    "            print(\"{:.4f}\\n\".format(self.sses[i]))\n",
    "            i+=1"
   ]
  },
  {
   "cell_type": "markdown",
   "metadata": {
    "id": "KibCIXIThpbE"
   },
   "source": [
    "### 1.1.2 Debug \n",
    "\n",
    "Debug your model by running it on the [Debug Dataset](https://raw.githubusercontent.com/cs472ta/CS472/master/datasets/abalone.arff)\n",
    "\n",
    "\n",
    "---\n",
    "The dataset was modified to be a lot smaller. The last datapoint should be on line 359 or the point 0.585,0.46,0.185,0.922,0.3635,0.213,0.285,10. The remaining points should be commented out.\n",
    "\n",
    "\n",
    "\n",
    "- Normalize Data\n",
    "- K = 5\n",
    "- Use the first k instances as the initial centroids\n",
    "- Use 4 decimal places and DO NOT ROUND when reporting SSE and centroid values.\n",
    "\n",
    "\n",
    "---\n",
    "Solutions in files:\n",
    "\n",
    "[Debug HAC Single.txt](https://raw.githubusercontent.com/cs472ta/CS472/master/debug_solutions/Debug%20HAC%20Single%20Link.txt)\n",
    "\n",
    "[Debug HAC Complete.txt](https://raw.githubusercontent.com/cs472ta/CS472/master/debug_solutions/Debug%20HAC%20Complete%20Link.txt)"
   ]
  },
  {
   "cell_type": "code",
   "execution_count": 234,
   "metadata": {},
   "outputs": [
    {
     "name": "stdout",
     "output_type": "stream",
     "text": [
      "5\n",
      "54.4392\n",
      "\n",
      "[0.599 ,0.5923,0.4915,0.2826,0.2682,0.2921,0.2316,0.3849]\n",
      "195\n",
      "54.3917\n",
      "\n",
      "[0.9189,0.9438,0.7105,0.7016,0.759 ,0.7222,0.4472,0.8824]\n",
      "1\n",
      "0.0000\n",
      "\n",
      "[1.    ,0.9831,0.8026,0.8343,0.6575,0.7825,0.9221,0.8824]\n",
      "2\n",
      "0.0475\n",
      "\n",
      "[1.    ,0.9888,0.7895,1.    ,1.    ,0.8915,0.7186,0.5882]\n",
      "1\n",
      "0.0000\n",
      "\n",
      "[0.9189,0.9888,0.8684,0.719 ,0.5797,0.7512,0.6432,0.9412]\n",
      "1\n",
      "0.0000\n",
      "\n"
     ]
    }
   ],
   "source": [
    "data = pd.DataFrame(arff.loadarff('datasets/abalone.arff')[0], dtype=float)\n",
    "X = data.values\n",
    "HAC = HACClustering(k=5)\n",
    "HAC.fit(X)\n",
    "HAC.print_clusters()"
   ]
  },
  {
   "cell_type": "code",
   "execution_count": 235,
   "metadata": {},
   "outputs": [
    {
     "name": "stdout",
     "output_type": "stream",
     "text": [
      "5\n",
      "13.0824\n",
      "\n",
      "[0.6544,0.649 ,0.5256,0.2879,0.2815,0.3057,0.2288,0.3911]\n",
      "71\n",
      "3.8232\n",
      "\n",
      "[0.3661,0.3505,0.271 ,0.1008,0.1024,0.1058,0.0836,0.2116]\n",
      "67\n",
      "5.2786\n",
      "\n",
      "[0.7622,0.7658,0.6759,0.4265,0.4016,0.4536,0.3376,0.5217]\n",
      "38\n",
      "1.4989\n",
      "\n",
      "[0.8818,0.8904,0.7582,0.614 ,0.5433,0.5317,0.561 ,0.7794]\n",
      "16\n",
      "1.5328\n",
      "\n",
      "[0.9471,0.934 ,0.8158,0.7457,0.6434,0.7944,0.6457,0.625 ]\n",
      "8\n",
      "0.9490\n",
      "\n"
     ]
    }
   ],
   "source": [
    "hac = HACClustering(k = 5,link_type = 'complete')\n",
    "hac.fit(X,normalize = True)\n",
    "hac.print_clusters()"
   ]
  },
  {
   "cell_type": "markdown",
   "metadata": {
    "id": "kY3VNB1ui03N"
   },
   "source": [
    "### 1.1.3 Evaluation\n",
    "\n",
    "We will evaluate your model based on its print_clusters() output using [Evaluation Dataset](https://raw.githubusercontent.com/cs472ta/CS472/master/datasets/seismic-bumps_train.arff)"
   ]
  },
  {
   "cell_type": "code",
   "execution_count": 236,
   "metadata": {
    "id": "2yAxA78QjDh2"
   },
   "outputs": [
    {
     "name": "stdout",
     "output_type": "stream",
     "text": [
      "5\n",
      "22.4548\n",
      "\n",
      "[0.2774,0.2597,1.    ,0.1224,0.4505,0.7549,0.129 ,0.    ]\n",
      "1\n",
      "0.0000\n",
      "\n",
      "[0.3065,0.3333,0.6979,0.2792,0.3787,1.    ,0.2373,0.    ]\n",
      "1\n",
      "0.0000\n",
      "\n",
      "[0.0884,0.1818,0.    ,0.145 ,0.1538,0.1245,0.    ,0.    ]\n",
      "1\n",
      "0.0000\n",
      "\n",
      "[0.3159,0.3648,0.5145,0.349 ,0.3338,0.3077,0.2868,0.    ]\n",
      "67\n",
      "10.0257\n",
      "\n",
      "[0.714 ,0.7588,0.5603,0.7028,0.6994,0.4864,0.7393,1.    ]\n",
      "70\n",
      "12.4291\n",
      "\n"
     ]
    }
   ],
   "source": [
    "data = pd.DataFrame(arff.loadarff('datasets/seismic-bumps_train.arff')[0], dtype=float)\n",
    "X = data.values\n",
    "HAC = HACClustering(k=5)\n",
    "HAC.fit(X)\n",
    "HAC.print_clusters()"
   ]
  },
  {
   "cell_type": "code",
   "execution_count": 237,
   "metadata": {},
   "outputs": [
    {
     "name": "stdout",
     "output_type": "stream",
     "text": [
      "5\n",
      "15.6967\n",
      "\n",
      "[0.3636,0.4107,0.5609,0.3857,0.3937,0.2808,0.3155,0.    ]\n",
      "49\n",
      "5.0209\n",
      "\n",
      "[0.3471,0.3622,0.7897,0.279 ,0.441 ,0.8568,0.2234,0.    ]\n",
      "3\n",
      "0.2178\n",
      "\n",
      "[0.1656,0.2226,0.3509,0.2328,0.152 ,0.3424,0.1918,0.    ]\n",
      "18\n",
      "2.2794\n",
      "\n",
      "[0.7918,0.8268,0.606 ,0.7669,0.7787,0.4634,0.7877,1.    ]\n",
      "49\n",
      "6.3712\n",
      "\n",
      "[0.5326,0.6002,0.4536,0.5531,0.5144,0.5401,0.6266,1.    ]\n",
      "21\n",
      "1.8075\n",
      "\n"
     ]
    }
   ],
   "source": [
    "hac = HACClustering(k = 5,link_type = 'complete')\n",
    "hac.fit(X,normalize = True)\n",
    "hac.print_clusters()"
   ]
  },
  {
   "cell_type": "markdown",
   "metadata": {},
   "source": [
    "### 1.2.1 K-Means\n",
    "\n",
    "### Code requirements \n",
    "- Ability to choose k and specify k initial centroids\n",
    "- Use Euclidean Distance as metric\n",
    "- Ability to handle distance ties\n",
    "- Include output label as a cluster feature\n",
    "\n",
    "\n",
    "---\n",
    "The output should include the following:\n",
    "- The number of clusters (k).\n",
    "- The total SSE of the full clustering. \n",
    "\n",
    "\n",
    "For each cluster report include:\n",
    "\n",
    "\n",
    "- The centroid id.\n",
    "- The number of instances tied to that centroid. \n",
    "- The SSE of that cluster. (The sum squared error (SSE) of a single cluster is the sum of the squared euclidean distance of each cluster member to the cluster centroid.)\n",
    "---\n",
    "You only need to handle continuous features"
   ]
  },
  {
   "cell_type": "code",
   "execution_count": 50,
   "metadata": {
    "id": "_a2KSZ_7AN0G"
   },
   "outputs": [],
   "source": [
    "class KMEANSClustering(BaseEstimator,ClusterMixin):\n",
    "    def __init__(self,k=3,debug=False): ## add parameters here\n",
    "        \"\"\"\n",
    "        Args:\n",
    "            k = how many final clusters to have\n",
    "            debug = if debug is true use the first k instances as the initial centroids otherwise choose random points as the initial centroids.\n",
    "        \"\"\"\n",
    "        self.k = k\n",
    "        self.debug = debug\n",
    "    def fit(self,X,y=None,maxiter = 1000,normalize = True):\n",
    "        \"\"\" Fit the data; In this lab this will make the K clusters :D\n",
    "        Args:\n",
    "            X (array-like): A 2D numpy array with the training data\n",
    "            y (array-like): An optional argument. Clustering is usually unsupervised so you don’t need labels\n",
    "        Returns:\n",
    "            self: this allows this to be chained, e.g. model.fit(X,y).predict(X_test)\n",
    "        \"\"\"\n",
    "        k = self.k\n",
    "        m,n = X.shape\n",
    "        if normalize:\n",
    "            minx = np.min(X,axis = 0)\n",
    "            maxx = np.max(X,axis = 0)\n",
    "            X = (X-minx)/(maxx-minx)\n",
    "        minx = np.min(X,axis = 0)\n",
    "        maxx = np.max(X,axis = 0)\n",
    "        #print(minx,maxx)\n",
    "        if self.debug:\n",
    "            self.centroids = X[:k]\n",
    "        else:\n",
    "            self.centroids = np.random.uniform(minx,maxx,(self.k,X.shape[1]))\n",
    "        self.new_centroids = np.zeros_like(self.centroids)\n",
    "        \n",
    "        cur_labels = np.zeros((m,),dtype = int)\n",
    "        cts = np.zeros(k,)\n",
    "        for i in range(maxiter):\n",
    "            cur_labels = self.classify(X)\n",
    "            #print(cur_labels)\n",
    "            #print(cur_labels)\n",
    "            for j in range(k):\n",
    "                if j in cur_labels:\n",
    "                    self.new_centroids[j] = np.mean(X[cur_labels == j],axis = 0)\n",
    "                else:\n",
    "                    self.new_centroids[j] = self.centroids[j]\n",
    "            for j in range(k):\n",
    "                cts[j] = X[cur_labels == j].shape[0]\n",
    "            sses = np.zeros((k,))\n",
    "            for l,x in zip(cur_labels,X):\n",
    "                sses[l] += np.linalg.norm(x-self.centroids[l])**2\n",
    "            #print(sses)\n",
    "            #print(centroids, new_centroids)\n",
    "            #print(np.linalg.norm(self.centroids-self.new_centroids))\n",
    "            if np.linalg.norm(self.centroids-self.new_centroids) < 1e-5:\n",
    "                print(f'exiting at {i+1} iters')\n",
    "                self.centroids = self.centroids\n",
    "                self.cts = cts\n",
    "                self.sses = sses\n",
    "                break\n",
    "            self.centroids = self.new_centroids.copy()\n",
    "        return self\n",
    "    def classify(self, X):\n",
    "        #print([(np.linalg.norm(row-self.centroids, axis=1)) for row in X])\n",
    "        return np.array([np.argmin(np.linalg.norm(row-self.centroids, axis=1)) for row in X])\n",
    "    def print_clusters(self):\n",
    "        \"\"\"\n",
    "            Used for grading.\n",
    "            print(“{:d}\\n”.format(k))\n",
    "            print(“{:.4f}\\n\\n”.format(total SSE))\n",
    "            for each cluster and centroid:\n",
    "                print(np.array2string(centroid,precision=4,separator=“,”))\n",
    "                print(“\\n”)\n",
    "                print(“{:d}\\n”.format(size of cluster))\n",
    "                print(“{:.4f}\\n\\n”.format(SSE of cluster))\n",
    "        \"\"\"\n",
    "        print(\"{:d}\".format(self.k))\n",
    "        print(\"{:.4f}\\n\".format(np.sum(self.sses)))\n",
    "        i = 0\n",
    "        for ct, cent in zip(self.cts, self.centroids):\n",
    "            print(np.array2string(cent,precision=4,separator=','))\n",
    "            print(f'{int(ct)}')\n",
    "            print('{:.4f}\\n'.format(self.sses[i]))\n",
    "            i+=1"
   ]
  },
  {
   "cell_type": "markdown",
   "metadata": {
    "id": "KibCIXIThpbE"
   },
   "source": [
    "### 1.2.2 Debug \n",
    "\n",
    "Debug your model by running it on the [Debug Dataset](https://raw.githubusercontent.com/cs472ta/CS472/master/datasets/abalone.arff)\n",
    "\n",
    "\n",
    "- Train until convergence\n",
    "- Normalize Data\n",
    "- K = 5\n",
    "- Use the first k instances as the initial centroids\n",
    "- Use 4 decimal places and DO NOT ROUND when reporting SSE and centroid values\n",
    "\n",
    "\n",
    "---\n",
    "Solutions in files:\n",
    "\n",
    "[Debug K Means.txt](https://raw.githubusercontent.com/cs472ta/CS472/master/debug_solutions/Debug%20K%20Means.txt)"
   ]
  },
  {
   "cell_type": "code",
   "execution_count": 52,
   "metadata": {
    "id": "KgAyy82gixIF"
   },
   "outputs": [
    {
     "name": "stdout",
     "output_type": "stream",
     "text": [
      "exiting at 11 iters\n",
      "5\n",
      "9.7826\n",
      "\n",
      "[0.7325,0.7327,0.627 ,0.3817,0.3633,0.4045,0.3046,0.4839]\n",
      "75\n",
      "4.0454\n",
      "\n",
      "[0.3704,0.3519,0.2686,0.0926,0.0935,0.094 ,0.0792,0.218 ]\n",
      "34\n",
      "0.6609\n",
      "\n",
      "[0.9035,0.905 ,0.7774,0.6579,0.5767,0.6193,0.5893,0.7279]\n",
      "24\n",
      "3.2116\n",
      "\n",
      "[0.5692,0.5628,0.4376,0.211 ,0.2113,0.2248,0.1659,0.317 ]\n",
      "54\n",
      "1.5452\n",
      "\n",
      "[0.1296,0.1037,0.1053,0.0177,0.0211,0.0272,0.0135,0.0724]\n",
      "13\n",
      "0.3195\n",
      "\n"
     ]
    }
   ],
   "source": [
    "# Load debug data\n",
    "data = pd.DataFrame(arff.loadarff('datasets/abalone.arff')[0], dtype=np.float)\n",
    "# Train on debug data\n",
    "model = KMEANSClustering(k=5, debug=True)\n",
    "model.fit(data.values, normalize=True)\n",
    "# # Print clusters\n",
    "model.print_clusters()"
   ]
  },
  {
   "cell_type": "markdown",
   "metadata": {
    "id": "kY3VNB1ui03N"
   },
   "source": [
    "### 1.2.3 Evaluation\n",
    "\n",
    "We will evaluate your model based on its print_clusters() output using [Evaluation Dataset](https://raw.githubusercontent.com/cs472ta/CS472/master/datasets/seismic-bumps_train.arff)"
   ]
  },
  {
   "cell_type": "code",
   "execution_count": 54,
   "metadata": {
    "id": "2yAxA78QjDh2"
   },
   "outputs": [
    {
     "name": "stdout",
     "output_type": "stream",
     "text": [
      "exiting at 10 iters\n",
      "5\n",
      "14.7279\n",
      "\n",
      "[0.5349,0.6013,0.4617,0.5541,0.5232,0.5544,0.6248,1.    ]\n",
      "22\n",
      "2.0160\n",
      "\n",
      "[0.3684,0.4338,0.4356,0.4388,0.3573,0.2988,0.3673,0.    ]\n",
      "31\n",
      "2.4076\n",
      "\n",
      "[0.3658,0.3854,0.7563,0.3093,0.4659,0.3691,0.2413,0.    ]\n",
      "20\n",
      "2.5248\n",
      "\n",
      "[0.1634,0.2137,0.3968,0.2178,0.1555,0.3078,0.1775,0.    ]\n",
      "19\n",
      "1.7770\n",
      "\n",
      "[0.7961,0.831 ,0.6054,0.7709,0.7802,0.4553,0.7919,1.    ]\n",
      "48\n",
      "6.0025\n",
      "\n"
     ]
    }
   ],
   "source": [
    "# Load evaluation data\n",
    "data = pd.DataFrame(arff.loadarff('datasets/seismic-bumps_train.arff')[0], dtype=np.float)\n",
    "\n",
    "# Train on evaluation data\n",
    "model = KMEANSClustering(k=5, debug=True)\n",
    "model.fit(data.values)\n",
    "\n",
    "# Print clusters\n",
    "model.print_clusters()"
   ]
  },
  {
   "cell_type": "markdown",
   "metadata": {
    "id": "9vWiTdlbR2Xh"
   },
   "source": [
    "## 2.1.1 (7.5%) Clustering the Iris Classification problem - HAC\n",
    "\n",
    "Load the Iris Dataset [Iris Dataset](https://raw.githubusercontent.com/cs472ta/CS472/master/datasets/iris.arff)\n",
    "\n",
    "- Use single-link and complete link clustering algorithms\n",
    "- State whether you normalize your data or not (your choice).  \n",
    "- Show your results for clusterings using k = 2-7.  \n",
    "- Graph the total SSE for each k and discuss your results (i.e. what kind of clusters are being made).\n",
    "---"
   ]
  },
  {
   "cell_type": "code",
   "execution_count": 228,
   "metadata": {
    "id": "4SSoasDQSKXb"
   },
   "outputs": [
    {
     "name": "stdout",
     "output_type": "stream",
     "text": [
      "We normalize the data\n"
     ]
    },
    {
     "data": {
      "image/png": "[encoded data removed]",
      "text/plain": [
       "<Figure size 432x288 with 1 Axes>"
      ]
     },
     "metadata": {
      "needs_background": "light"
     },
     "output_type": "display_data"
    }
   ],
   "source": [
    "# Iris Classification using single-link without output label\n",
    "iris_data = load_iris()\n",
    "data = iris_data['data']\n",
    "target = iris_data['target']\n",
    "\n",
    "sse = []\n",
    "print(\"We normalize the data\")\n",
    "for k in range(2,8):\n",
    "    # Train\n",
    "    HAC = HACClustering(k=k)\n",
    "    HAC.fit(data)\n",
    "    # Get data \n",
    "    sse.append(np.sum(HAC.sses))\n",
    "\n",
    "# Plot SSE\n",
    "plt.plot(list(range(2,8)), sse)\n",
    "plt.title(\"Total SSE for k in (2,7)\")\n",
    "plt.xlabel(\"k\")\n",
    "plt.ylabel(\"SSE\")\n",
    "plt.show()"
   ]
  },
  {
   "cell_type": "code",
   "execution_count": 229,
   "metadata": {},
   "outputs": [
    {
     "name": "stdout",
     "output_type": "stream",
     "text": [
      "We normalize the data\n"
     ]
    },
    {
     "data": {
      "image/png": "[encoded data removed]",
      "text/plain": [
       "<Figure size 432x288 with 1 Axes>"
      ]
     },
     "metadata": {
      "needs_background": "light"
     },
     "output_type": "display_data"
    }
   ],
   "source": [
    "# Iris Classification using complete-link without output label\n",
    "iris_data = load_iris()\n",
    "data = iris_data['data']\n",
    "target = iris_data['target']\n",
    "\n",
    "sse = []\n",
    "print(\"We normalize the data\")\n",
    "for k in range(2,8):\n",
    "    # Train\n",
    "    HAC = HACClustering(k=k, link_type='complete')\n",
    "    HAC.fit(data)\n",
    "    # Get data \n",
    "    sse.append(np.sum(HAC.sses))\n",
    "\n",
    "# Plot SSE\n",
    "plt.plot(list(range(2,8)), sse)\n",
    "plt.title(\"Total SSE for k in (2,7)\")\n",
    "plt.xlabel(\"k\")\n",
    "plt.ylabel(\"SSE\")\n",
    "plt.show()"
   ]
  },
  {
   "cell_type": "markdown",
   "metadata": {},
   "source": [
    "Discuss differences between single-link and complete-link"
   ]
  },
  {
   "cell_type": "markdown",
   "metadata": {},
   "source": [
    "## 2.1.2 (5%) Clustering the Iris Classification problem - HAC\n",
    "\n",
    "Requirements:\n",
    "- Repeat excercise 2.1.1 and include the output label as one of the input features."
   ]
  },
  {
   "cell_type": "code",
   "execution_count": 230,
   "metadata": {},
   "outputs": [
    {
     "name": "stdout",
     "output_type": "stream",
     "text": [
      "We normalize the data\n"
     ]
    },
    {
     "data": {
      "image/png": "[encoded data removed]",
      "text/plain": [
       "<Figure size 432x288 with 1 Axes>"
      ]
     },
     "metadata": {
      "needs_background": "light"
     },
     "output_type": "display_data"
    }
   ],
   "source": [
    "# Clustering Labels using single-link with output label\n",
    "iris_data = load_iris()\n",
    "data = iris_data['data']\n",
    "target = iris_data['target']\n",
    "iris_info = np.vstack((data.T,target)).T\n",
    "\n",
    "sse = []\n",
    "print(\"We normalize the data\")\n",
    "for k in range(2,8):\n",
    "    # Train\n",
    "    HAC = HACClustering(k=k)\n",
    "    HAC.fit(iris_info)\n",
    "    # Get data \n",
    "    sse.append(np.sum(HAC.sses))\n",
    "\n",
    "# Plot SSE\n",
    "plt.plot(list(range(2,8)), sse)\n",
    "plt.title(\"Total SSE for k in (2,7)\")\n",
    "plt.xlabel(\"k\")\n",
    "plt.ylabel(\"SSE\")\n",
    "plt.show()"
   ]
  },
  {
   "cell_type": "code",
   "execution_count": 231,
   "metadata": {},
   "outputs": [
    {
     "name": "stdout",
     "output_type": "stream",
     "text": [
      "We normalize the data\n"
     ]
    },
    {
     "data": {
      "image/png": "[encoded data removed]",
      "text/plain": [
       "<Figure size 432x288 with 1 Axes>"
      ]
     },
     "metadata": {
      "needs_background": "light"
     },
     "output_type": "display_data"
    }
   ],
   "source": [
    "# Clustering Labels using complete-link with output label\n",
    "iris_data = load_iris()\n",
    "data = iris_data['data']\n",
    "target = iris_data['target']\n",
    "iris_info = np.vstack((data.T,target)).T\n",
    "\n",
    "sse = []\n",
    "print(\"We normalize the data\")\n",
    "for k in range(2,8):\n",
    "    # Train\n",
    "    HAC = HACClustering(k=k, link_type='complete')\n",
    "    HAC.fit(iris_info)\n",
    "    # Get data \n",
    "    sse.append(np.sum(HAC.sses))\n",
    "\n",
    "# Plot SSE\n",
    "plt.plot(list(range(2,8)), sse)\n",
    "plt.title(\"Total SSE for k in (2,7)\")\n",
    "plt.xlabel(\"k\")\n",
    "plt.ylabel(\"SSE\")\n",
    "plt.show()"
   ]
  },
  {
   "cell_type": "markdown",
   "metadata": {},
   "source": [
    "Discuss any differences between the results from 2.1.1 and 2.1.2."
   ]
  },
  {
   "cell_type": "markdown",
   "metadata": {
    "id": "9vWiTdlbR2Xh"
   },
   "source": [
    "## 2.2.1 (7.5%) Clustering the Iris Classification problem: K-Means\n",
    "\n",
    "Load the Iris Dataset [Iris Dataset](https://raw.githubusercontent.com/cs472ta/CS472/master/datasets/iris.arff)\n",
    "\n",
    "Run K-Means on the Iris dataset using the output label as a feature and without using the output label as a feature\n",
    "\n",
    "Requirements:\n",
    "- State whether you normalize your data or not (your choice).  \n",
    "- Show your results for clusterings using k = 2-7.  \n",
    "- Graph the total SSE for each k and discuss your results (i.e. what kind of clusters are being made).\n",
    "---"
   ]
  },
  {
   "cell_type": "code",
   "execution_count": 55,
   "metadata": {},
   "outputs": [
    {
     "name": "stdout",
     "output_type": "stream",
     "text": [
      "exiting at 6 iters\n",
      "exiting at 5 iters\n",
      "exiting at 7 iters\n",
      "exiting at 8 iters\n",
      "exiting at 9 iters\n",
      "exiting at 9 iters\n"
     ]
    },
    {
     "data": {
      "image/png": "[encoded data removed]",
      "text/plain": [
       "<Figure size 432x288 with 1 Axes>"
      ]
     },
     "metadata": {
      "needs_background": "light"
     },
     "output_type": "display_data"
    }
   ],
   "source": [
    "# Iris Classification without output label\n",
    "iris_data = load_iris()\n",
    "data = iris_data['data']\n",
    "target = iris_data['target']\n",
    "\n",
    "sse = []\n",
    "for k in range(2,8):\n",
    "    # Train\n",
    "    model = KMEANSClustering(k=k, debug=True)\n",
    "    model.fit(data)\n",
    "    # Get data \n",
    "    sse.append(np.sum(model.sses))\n",
    "\n",
    "# Plot SSE\n",
    "plt.plot(list(range(2,8)), sse)\n",
    "plt.title(\"Total SSE for k in (2,7)\")\n",
    "plt.xlabel(\"k\")\n",
    "plt.ylabel(\"SSE\")\n",
    "plt.show()"
   ]
  },
  {
   "cell_type": "code",
   "execution_count": 56,
   "metadata": {
    "id": "4SSoasDQSKXb"
   },
   "outputs": [
    {
     "name": "stdout",
     "output_type": "stream",
     "text": [
      "exiting at 4 iters\n",
      "exiting at 6 iters\n",
      "exiting at 7 iters\n",
      "exiting at 6 iters\n",
      "exiting at 5 iters\n",
      "exiting at 5 iters\n"
     ]
    },
    {
     "data": {
      "image/png": "[encoded data removed]",
      "text/plain": [
       "<Figure size 432x288 with 1 Axes>"
      ]
     },
     "metadata": {
      "needs_background": "light"
     },
     "output_type": "display_data"
    }
   ],
   "source": [
    "# Iris Classification with output label# Iris Classification without output label\n",
    "iris_data = load_iris()\n",
    "data = iris_data['data']\n",
    "target = iris_data['target']\n",
    "iris_info = np.vstack((data.T,target)).T\n",
    "\n",
    "sse = []\n",
    "for k in range(2,8):\n",
    "    # Train\n",
    "    model = KMEANSClustering(k=k, debug=True)\n",
    "    model.fit(iris_info)\n",
    "    # Get data \n",
    "    sse.append(np.sum(model.sses))\n",
    "\n",
    "# Plot SSE\n",
    "plt.plot(list(range(2,8)), sse)\n",
    "plt.title(\"Total SSE for k in (2,7)\")\n",
    "plt.xlabel(\"k\")\n",
    "plt.ylabel(\"SSE\")\n",
    "plt.show()"
   ]
  },
  {
   "cell_type": "markdown",
   "metadata": {},
   "source": [
    "Compare results and differences between using the output label and excluding the output label"
   ]
  },
  {
   "cell_type": "markdown",
   "metadata": {},
   "source": [
    "## 2.2.2 (5%) Clustering the Iris Classification problem: K-Means\n",
    "\n",
    "Requirements:\n",
    "- Use the output label as an input feature\n",
    "- Run K-Means 5 times with k=4, each time with different initial random centroids and discuss any variations in the results. "
   ]
  },
  {
   "cell_type": "code",
   "execution_count": 57,
   "metadata": {},
   "outputs": [
    {
     "name": "stdout",
     "output_type": "stream",
     "text": [
      "exiting at 6 iters\n",
      "exiting at 7 iters\n",
      "exiting at 6 iters\n",
      "exiting at 5 iters\n",
      "exiting at 5 iters\n"
     ]
    },
    {
     "data": {
      "image/png": "[encoded data removed]",
      "text/plain": [
       "<Figure size 432x288 with 1 Axes>"
      ]
     },
     "metadata": {
      "needs_background": "light"
     },
     "output_type": "display_data"
    }
   ],
   "source": [
    "#K-Means 5 times\n",
    "sses = []\n",
    "for i in range(5):\n",
    "    model = KMEANSClustering(k=4)\n",
    "    model.fit(iris_info)\n",
    "    # Get data \n",
    "    sses.append(model.sses)\n",
    "\n",
    "for i,sse in enumerate(sses):\n",
    "    plt.plot(sse, label=f'Iteration {i}')\n",
    "plt.ylabel(\"SSE\")\n",
    "plt.xlabel('Iterations Taken Till Convergence')\n",
    "plt.title(\"Following the SSE\")\n",
    "plt.legend()\n",
    "plt.show()"
   ]
  },
  {
   "cell_type": "markdown",
   "metadata": {},
   "source": [
    "Discuss any variations in the results"
   ]
  },
  {
   "cell_type": "markdown",
   "metadata": {
    "id": "oBBmeNQ7jvcQ"
   },
   "source": [
    "## 3.1 (12.5%) Run the SK versions of HAC (both single and complete link) on iris including the output label and compare your results with those above.\n",
    "Use the silhouette score for this iris problem(k = 2-7).  You may write your own code to do silhouette (optional extra credit) or you can use sklearn.metrics.silhouette_score. Please state if you coded your own silhouette score function to receive the extra credit points (described below). Discuss how helpful Silhouette appeared to be for selecting which clustering is best. You do not need to supply full Silhouette graphs, but you could if you wanted to.\n",
    "\n",
    "Requirements\n",
    "- Use the Sillhouette score for this iris problem (k= 2-7) \n",
    "- Use at least one other scoring function from [sklearn.metrics](https://scikit-learn.org/stable/modules/model_evaluation.html) and compare the results. State which metric was used. \n",
    "- Possible sklean metrics include (* metrics require ground truth labels):\n",
    "    - adjusted_mutual_info_score*\n",
    "    - adjusted_rand_score*\n",
    "    - homogeneity_score*\n",
    "    - completeness_score*\n",
    "    - fowlkes_mallows_score*\n",
    "    - calinski_harabasz_score\n",
    "    - davies_bouldin_score\n",
    "- Experiment using different hyper-parameters. Discuss Results"
   ]
  },
  {
   "cell_type": "code",
   "execution_count": 58,
   "metadata": {
    "id": "OFQv70W2VyqJ"
   },
   "outputs": [
    {
     "data": {
      "image/png": "[encoded data removed]",
      "text/plain": [
       "<Figure size 432x288 with 1 Axes>"
      ]
     },
     "metadata": {
      "needs_background": "light"
     },
     "output_type": "display_data"
    }
   ],
   "source": [
    "# Load sklearn \n",
    "sil_scores = []\n",
    "mutual_info = []\n",
    "for k in range(2,8):\n",
    "    model = AC(k)\n",
    "    model.fit(iris_info)\n",
    "    sil_scores.append(silhouette_score(iris_info, model.labels_))\n",
    "    mutual_info.append(mis(target, model.labels_))\n",
    "plt.plot(sil_scores, label='Silhouette')\n",
    "plt.plot(mutual_info, label='Mutual Info')\n",
    "plt.title(\"Comparing metrics\")\n",
    "plt.xlabel(\"k\")\n",
    "plt.ylabel('Score')\n",
    "plt.legend()\n",
    "plt.show()"
   ]
  },
  {
   "cell_type": "code",
   "execution_count": 60,
   "metadata": {},
   "outputs": [
    {
     "data": {
      "image/png": "[encoded data removed]",
      "text/plain": [
       "<Figure size 432x288 with 1 Axes>"
      ]
     },
     "metadata": {
      "needs_background": "light"
     },
     "output_type": "display_data"
    }
   ],
   "source": [
    "auto, full, elkan = [], [], []\n",
    "for k in range(2,8):\n",
    "    model = AC(k, linkage='average')\n",
    "    model.fit(iris_info)\n",
    "    auto.append(silhouette_score(iris_info, model.labels_))\n",
    "    model = AC(k, linkage='complete')\n",
    "    model.fit(iris_info)\n",
    "    full.append(silhouette_score(iris_info, model.labels_))\n",
    "    model = AC(k, compute_full_tree=True)\n",
    "    model.fit(iris_info)\n",
    "    elkan.append(silhouette_score(iris_info, model.labels_))\n",
    "plt.plot(auto, label='Average Linkage')\n",
    "plt.plot(full, label='Complete Linkage')\n",
    "plt.plot(elkan, label='Full Tree')\n",
    "plt.xlabel('k')\n",
    "plt.ylabel('Silhouette Score')\n",
    "plt.title('Comparing Algorithm Hyperparameters')\n",
    "plt.legend()\n",
    "plt.show()"
   ]
  },
  {
   "cell_type": "markdown",
   "metadata": {
    "id": "BqSFAXwlk3Ms"
   },
   "source": [
    "*Record impressions*"
   ]
  },
  {
   "cell_type": "markdown",
   "metadata": {
    "id": "oBBmeNQ7jvcQ"
   },
   "source": [
    "## 3.2 (12.5%) Run the SK version of k-means on iris including the output label and compare your results with those above. \n",
    "\n",
    "Use the silhouette score for this iris problem(k = 2-7). You may write your own code to do silhouette (optional extra credit) or you can use sklearn.metrics.silhouette_score. Please state if you coded your own silhouette score function to receive the extra credit points (described below). Discuss how helpful Silhouette appeared to be for selecting which clustering is best. You do not need to supply full Silhouette graphs, but you could if you wanted to.\n",
    "\n",
    "Requirements\n",
    "- Use the Sillhouette score for this iris problem (k= 2-7) \n",
    "- Use at least one other scoring function form sklearn.metrics and compare the results. State which metric was used\n",
    "- Experiment different hyper-parameters. Discuss Results"
   ]
  },
  {
   "cell_type": "code",
   "execution_count": 61,
   "metadata": {
    "id": "OFQv70W2VyqJ"
   },
   "outputs": [
    {
     "data": {
      "image/png": "[encoded data removed]",
      "text/plain": [
       "<Figure size 432x288 with 1 Axes>"
      ]
     },
     "metadata": {
      "needs_background": "light"
     },
     "output_type": "display_data"
    }
   ],
   "source": [
    "# Load sklearn \n",
    "sil_scores = []\n",
    "mutual_info = []\n",
    "for k in range(2,8):\n",
    "    model = KMeans(k)\n",
    "    model.fit(iris_info)\n",
    "    sil_scores.append(silhouette_score(iris_info, model.labels_))\n",
    "    mutual_info.append(mis(target, model.labels_))\n",
    "plt.plot(sil_scores, label='Silhouette')\n",
    "plt.plot(mutual_info, label='Mutual Info')\n",
    "plt.title(\"Comparing metrics\")\n",
    "plt.xlabel(\"k\")\n",
    "plt.ylabel('Score')\n",
    "plt.legend()\n",
    "plt.show()"
   ]
  },
  {
   "cell_type": "code",
   "execution_count": 62,
   "metadata": {},
   "outputs": [
    {
     "data": {
      "image/png": "[encoded data removed]",
      "text/plain": [
       "<Figure size 432x288 with 1 Axes>"
      ]
     },
     "metadata": {
      "needs_background": "light"
     },
     "output_type": "display_data"
    }
   ],
   "source": [
    "auto, full, elkan = [], [], []\n",
    "for k in range(2,8):\n",
    "    model = KMeans(k, algorithm='auto')\n",
    "    model.fit(iris_info)\n",
    "    auto.append(silhouette_score(iris_info, model.labels_))\n",
    "    model = KMeans(k, algorithm='full')\n",
    "    model.fit(iris_info)\n",
    "    full.append(silhouette_score(iris_info, model.labels_))\n",
    "    odel = KMeans(k, algorithm='elkan')\n",
    "    model.fit(iris_info)\n",
    "    elkan.append(silhouette_score(iris_info, model.labels_))\n",
    "plt.plot(auto, label='auto')\n",
    "plt.plot(full, label='full')\n",
    "plt.plot(elkan, label='elkan')\n",
    "plt.xlabel('k')\n",
    "plt.ylabel('Silhouette Score')\n",
    "plt.title('Comparing Algorithm Hyperparameters')\n",
    "plt.legend()\n",
    "plt.show()"
   ]
  },
  {
   "cell_type": "markdown",
   "metadata": {
    "id": "BqSFAXwlk3Ms"
   },
   "source": [
    "*Record impressions*"
   ]
  },
  {
   "cell_type": "markdown",
   "metadata": {
    "id": "cTlK-kijk8Mg"
   },
   "source": [
    "## 4. (Optional 5% extra credit) For your silhouette experiment above, write and use your own code to calculate the silhouette scores, rather than the SK or other version. \n"
   ]
  },
  {
   "cell_type": "markdown",
   "metadata": {
    "id": "BqSFAXwlk3Ms"
   },
   "source": [
    "*Show findings here*"
   ]
  },
  {
   "cell_type": "code",
   "execution_count": null,
   "metadata": {},
   "outputs": [],
   "source": []
  }
 ],
 "metadata": {
  "colab": {
   "collapsed_sections": [],
   "name": "lab 1 - perceptron",
   "provenance": []
  },
  "kernelspec": {
   "display_name": "Python 3",
   "language": "python",
   "name": "python3"
  },
  "language_info": {
   "codemirror_mode": {
    "name": "ipython",
    "version": 3
   },
   "file_extension": ".py",
   "mimetype": "text/x-python",
   "name": "python",
   "nbconvert_exporter": "python",
   "pygments_lexer": "ipython3",
   "version": "3.7.3"
  }
 },
 "nbformat": 4,
 "nbformat_minor": 4
}
