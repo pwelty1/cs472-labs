{
 "cells": [
  {
   "cell_type": "markdown",
   "metadata": {
    "id": "DVL7_bgmIAPR"
   },
   "source": [
    "# Perceptron Lab\n",
    "\n",
    "\n",
    "\n"
   ]
  },
  {
   "cell_type": "code",
   "execution_count": 95,
   "metadata": {
    "id": "6ZbYjZZZ_yLV"
   },
   "outputs": [],
   "source": [
    "from sklearn.base import BaseEstimator, ClassifierMixin\n",
    "from sklearn.linear_model import Perceptron\n",
    "import numpy as np\n",
    "import matplotlib.pyplot as plt"
   ]
  },
  {
   "cell_type": "markdown",
   "metadata": {
    "id": "sCcEPx5VIORj"
   },
   "source": [
    "## 1. (40%) Correctly implement and submit your own code for the perceptron learning algorithm. \n",
    "\n",
    "### Code requirements\n",
    "- Shuffle the data each epoch.\n",
    "- A way to create a random train/test split. Write your own. In the future you can use the scikit-learn version if you want.\n",
    "- Use Stochastic/On-line training updates: Iterate and update weights after each training instance (i.e. do not attempt batch updates)\n",
    "- Implement a stopping criteria: when your model has trained for a number of epochs with no significant improvement in accuracy, stop training. Note that the weights/accuracy do not usually change monotonically.\n",
    "- Use your perceptron to solve the Debug data. We provide you with several parameters, and you should be able to replicate our results every time. When you are confident it is correct, run your perceptron on the Evaluation data with the same parameters, and include your final weights in your report PDF."
   ]
  },
  {
   "cell_type": "code",
   "execution_count": 96,
   "metadata": {
    "id": "_a2KSZ_7AN0G"
   },
   "outputs": [],
   "source": [
    "class PerceptronClassifier(BaseEstimator,ClassifierMixin):\n",
    "\n",
    "    def __init__(self, lr=.1, shuffle=True):\n",
    "        \"\"\" \n",
    "            Initialize class with chosen hyperparameters.\n",
    "        Args:\n",
    "            lr (float): A learning rate / step size.\n",
    "            shuffle: Whether to shuffle the training data each epoch. DO NOT \n",
    "            SHUFFLE for evaluation / debug datasets.\n",
    "        \"\"\"\n",
    "        self.lr = lr\n",
    "        self.shuffle = shuffle\n",
    "\n",
    "    def fit(self, X, y, initial_weights=None, epochs=10):\n",
    "        \"\"\" \n",
    "            Fit the data; run the algorithm and adjust the weights to find a \n",
    "            good solution\n",
    "        Args:\n",
    "            X (array-like): A 2D numpy array with the training data, excluding\n",
    "            targets\n",
    "            y (array-like): A 2D numpy array with the training targets\n",
    "            initial_weights (array-like): allows the user to provide initial \n",
    "            weights\n",
    "        Returns:\n",
    "            self: this allows this to be chained, e.g. model.fit(X,y).predict(X_test)\n",
    "        \"\"\"\n",
    "        self.length =  X.shape[1] + 1\n",
    "        self.weights = self.initialize_weights() if not initial_weights else initial_weights\n",
    "        self.weights = np.array(self.weights)\n",
    "        self.misclass = []\n",
    "        X_og = X.copy()\n",
    "        y_og = y.copy()\n",
    "        x_len = X.shape[1] + 1\n",
    "        X = np.column_stack((X, np.ones(X.shape[0])))\n",
    "        \n",
    "        for j in range(epochs):\n",
    "            passed = True\n",
    "            if self.shuffle:\n",
    "                curr_X, curr_y = self._shuffle_data(X, y)\n",
    "            else:\n",
    "                curr_X, curr_y = X, y\n",
    "            self.misclass.append(1-self.score(X_og, y_og))\n",
    "            for i in range(len(X)):\n",
    "                if sum((curr_X[i]*self.weights)) > 0 and curr_y[i] == 0.0:\n",
    "                    delta_weight = self.lr*(curr_y[i] - 1)*curr_X[i]\n",
    "                    passed = False\n",
    "                elif sum((curr_X[i]*self.weights)) <= 0 and curr_y[i] == 1.0:\n",
    "                    delta_weight = self.lr*(curr_y[i] - 0)*curr_X[i]\n",
    "                    passed = False\n",
    "                else:\n",
    "                    delta_weight = np.zeros(x_len)\n",
    "                self.weights += delta_weight\n",
    "            if passed:\n",
    "                self.epochs = j\n",
    "                break\n",
    "            else: \n",
    "                self.epochs = epochs\n",
    "        return self\n",
    "\n",
    "    def predict(self, X):\n",
    "        \"\"\" \n",
    "            Predict all classes for a dataset X\n",
    "        Args:\n",
    "            X (array-like): A 2D numpy array with the training data, excluding \n",
    "            targets\n",
    "        Returns:\n",
    "            array, shape (n_samples,)\n",
    "                Predicted target values per element in X.\n",
    "        \"\"\"\n",
    "        X = np.column_stack((X, np.ones(X.shape[0])))\n",
    "        nets = [sum((X[i]*self.weights)) for i in range(len(X))]\n",
    "        return [1 if x > 0 else 0 for x in nets]\n",
    "\n",
    "    def initialize_weights(self):\n",
    "        \"\"\" Initialize weights for perceptron. Don't forget the bias!\n",
    "        Returns:\n",
    "        \"\"\"\n",
    "        \n",
    "        return np.random.uniform(0,1,self.length)\n",
    "\n",
    "    def score(self, X, y):\n",
    "        \"\"\" \n",
    "            Return accuracy of model on a given dataset. Must implement own \n",
    "            score function.\n",
    "        Args:\n",
    "            X (array-like): A 2D numpy array with data, excluding targets\n",
    "            y (array-like): A 2D numpy array with targets\n",
    "        Returns:\n",
    "            score : float\n",
    "                Mean accuracy of self.predict(X) wrt. y.\n",
    "        \"\"\"\n",
    "\n",
    "        return np.mean(y==self.predict(X))\n",
    "\n",
    "    def _shuffle_data(self, X, y):\n",
    "        \"\"\" \n",
    "            Shuffle the data! This _ prefix suggests that this method should \n",
    "            only be called internally.\n",
    "            It might be easier to concatenate X & y and shuffle a single 2D \n",
    "            array, rather than shuffling X and y exactly the same way, \n",
    "            independently.\n",
    "        \"\"\"\n",
    "        z = np.column_stack([X, y])\n",
    "        np.random.shuffle(z)\n",
    "        return z[:,:-1], z[:,-1]\n",
    "\n",
    "    ### Not required by sk-learn but required by us for grading. Returns the weights.\n",
    "    def get_weights(self):\n",
    "        return self.weights"
   ]
  },
  {
   "cell_type": "markdown",
   "metadata": {
    "id": "KibCIXIThpbE"
   },
   "source": [
    "## 1.1 Debug \n",
    "\n",
    "Debug your model by running it on the [debug dataset](https://raw.githubusercontent.com/cs472ta/CS472/master/datasets/linsep2nonorigin.arff)\n",
    "\n",
    "Parameters:\n",
    "\n",
    "Learning Rate = 0.1\\\n",
    "Deterministic = 10 [This means run it 10 epochs and should be the same everytime you run it]\\\n",
    "Shuffle = False\\\n",
    "Initial Weights = All zeros\n",
    "\n",
    "---\n",
    "\n",
    "Expected Results\n",
    "\n",
    "Accuracy = [0.88]\\\n",
    "Final Weights = [-0.23  0.18 -0.1 ]"
   ]
  },
  {
   "cell_type": "code",
   "execution_count": 97,
   "metadata": {
    "id": "KgAyy82gixIF"
   },
   "outputs": [
    {
     "name": "stdout",
     "output_type": "stream",
     "text": [
      "  % Total    % Received % Xferd  Average Speed   Time    Time     Time  Current\n",
      "                                 Dload  Upload   Total   Spent    Left  Speed\n",
      "100   197  100   197    0     0    345      0 --:--:-- --:--:-- --:--:--   345\n",
      "[-0.23  0.18 -0.1 ]\n",
      "0.875\n"
     ]
    }
   ],
   "source": [
    "from scipy.io import arff\n",
    "import pandas as pd\n",
    "\n",
    "!curl https://raw.githubusercontent.com/cs472ta/CS472/master/datasets/linsep2nonorigin.arff --output debug-dataset.arff\n",
    "\n",
    "dataset = arff.loadarff(\"datasets/linsep2nonorigin.arff\")\n",
    "data = pd.DataFrame(dataset[0], dtype=np.float)\n",
    "X = data.drop(columns=['class']).to_numpy()\n",
    "y = data['class'].to_numpy()\n",
    "\n",
    "perp = PerceptronClassifier(0.1, shuffle=False)\n",
    "perp.fit(X, y, [0., 0., 0.])\n",
    "print(perp.weights)\n",
    "print(perp.score(X, y))\n",
    "\n",
    "# Train on debug data\n",
    "\n",
    "# Check accuracy and weights"
   ]
  },
  {
   "cell_type": "markdown",
   "metadata": {
    "id": "kY3VNB1ui03N"
   },
   "source": [
    "## 1.2 Evaluation\n",
    "\n",
    "We will evaluate your model based on it's performance on the [evaluation dataset](https://raw.githubusercontent.com/cs472ta/CS472/master/datasets/data_banknote_authentication.arff)"
   ]
  },
  {
   "cell_type": "code",
   "execution_count": 98,
   "metadata": {
    "id": "2yAxA78QjDh2"
   },
   "outputs": [
    {
     "name": "stdout",
     "output_type": "stream",
     "text": [
      "  % Total    % Received % Xferd  Average Speed   Time    Time     Time  Current\n",
      "                                 Dload  Upload   Total   Spent    Left  Speed\n",
      "100 46685  100 46685    0     0   118k      0 --:--:-- --:--:-- --:--:--  118k\n",
      "[-4.02936398 -2.16558534 -2.89791429 -1.02584835  4.75858611]\n",
      "0.9774052478134111\n"
     ]
    }
   ],
   "source": [
    "!curl https://raw.githubusercontent.com/cs472ta/CS472/master/datasets/data_banknote_authentication.arff --output eval-dataset.arff\n",
    "\n",
    "dataset = arff.loadarff(\"datasets/data_banknote_authentication.arff\")\n",
    "data = pd.DataFrame(dataset[0], dtype=np.float)\n",
    "X = data.drop(columns=['class']).to_numpy()\n",
    "y = data['class'].to_numpy()\n",
    "\n",
    "perp = PerceptronClassifier(0.1, shuffle=False)\n",
    "perp.fit(X, y)\n",
    "print(perp.weights)\n",
    "print(perp.score(X, y))\n",
    "\n",
    "# Train on evaluation data\n",
    "\n",
    "# Print weights"
   ]
  },
  {
   "cell_type": "markdown",
   "metadata": {
    "id": "9vWiTdlbR2Xh"
   },
   "source": [
    "## 2. (10%) Create 2 datasets\n",
    "\n",
    "- Both with 8 instances using 2 real valued inputs (ranging between -1 and 1) with 4 instances from each class. \n",
    "- One data set should be linearly separable and the other not.\n",
    "- Graph each dataset\n",
    "\n",
    "![Linearly Separable Data](https://raw.githubusercontent.com/rmorain/CS472-1/master/images/perceptron/linearly_separable.png)\n",
    "\n",
    "![Not Linearly Separable](https://raw.githubusercontent.com/rmorain/CS472-1/master/images/perceptron/not_linearly_separable.png)"
   ]
  },
  {
   "cell_type": "code",
   "execution_count": 99,
   "metadata": {
    "id": "4SSoasDQSKXb"
   },
   "outputs": [
    {
     "data": {
      "image/png": "[encoded data removed]",
      "text/plain": [
       "<Figure size 432x288 with 1 Axes>"
      ]
     },
     "metadata": {
      "needs_background": "light"
     },
     "output_type": "display_data"
    }
   ],
   "source": [
    "# Create 2 datasets\n",
    "X_1 = np.vstack([np.random.uniform(-1, 0, (4,2)), np.random.uniform(0, 1, (4,2))])\n",
    "y_1 = np.hstack([np.zeros(4), np.ones(4)])\n",
    "plt.scatter(*X_1.T, c=y_1)\n",
    "plt.xlabel(\"x\")\n",
    "plt.ylabel(\"y\")\n",
    "plt.show()\n"
   ]
  },
  {
   "cell_type": "code",
   "execution_count": 100,
   "metadata": {},
   "outputs": [
    {
     "data": {
      "image/png": "[encoded data removed]",
      "text/plain": [
       "<Figure size 432x288 with 1 Axes>"
      ]
     },
     "metadata": {
      "needs_background": "light"
     },
     "output_type": "display_data"
    }
   ],
   "source": [
    "X_2 = np.vstack([np.random.uniform(-1, 1, (4,2)), np.random.uniform(-1, 1, (4,2))])\n",
    "y_2 = np.hstack([np.zeros(4), np.ones(4)])\n",
    "plt.scatter(*X_2.T, c=y_2)\n",
    "plt.xlabel(\"x\")\n",
    "plt.ylabel(\"y\")\n",
    "plt.show()"
   ]
  },
  {
   "cell_type": "markdown",
   "metadata": {
    "id": "SIRG42TgSR4x"
   },
   "source": [
    "## 3. (10%) Train on both sets with your perceptron code.\n",
    "\n",
    "- Use a couple different learning rates.\n"
   ]
  },
  {
   "cell_type": "code",
   "execution_count": 101,
   "metadata": {
    "id": "KBGUn43ASiXW"
   },
   "outputs": [
    {
     "name": "stdout",
     "output_type": "stream",
     "text": [
      "[0.86820376 0.92215201 0.2262963 ]\n",
      "1\n",
      "[-0.25208006 -0.24539742  0.08446259]\n",
      "10\n"
     ]
    }
   ],
   "source": [
    "perp = PerceptronClassifier(0.5, shuffle=False)\n",
    "perp.fit(X_1, y_1)\n",
    "print(perp.weights)\n",
    "print(perp.epochs)\n",
    "\n",
    "perp1 = PerceptronClassifier(0.2, shuffle=False)\n",
    "perp1.fit(X_2, y_2)\n",
    "print(perp1.weights)\n",
    "print(perp1.epochs)"
   ]
  },
  {
   "cell_type": "markdown",
   "metadata": {
    "id": "mOteTlV6S0bq"
   },
   "source": [
    "Discuss the effect of learning rate, including how many epochs are completed before stopping. (For these cases, learning rate should have minimal effect, unlike with the Backpropagation lab.)\n"
   ]
  },
  {
   "cell_type": "markdown",
   "metadata": {
    "id": "qmq9GSbJS8k2"
   },
   "source": [
    "*After trying many different learning rates on both datasets, I found learning rate had very little effect on how many epochs were completed. Rather, it seems that the number of epochs depends on whether or not a dataset is linearly separable. If it is not linearly separable the weights will always keep changing with every epoch.*\n"
   ]
  },
  {
   "cell_type": "markdown",
   "metadata": {
    "id": "v19fpixqTe-7"
   },
   "source": [
    "## 4. (10%) Graph the instances and decision line for the two cases above (with LR=.1)\n",
    " \n",
    " - For all graphs always label the axes!"
   ]
  },
  {
   "cell_type": "code",
   "execution_count": 102,
   "metadata": {
    "id": "ZCPFUAGTS2sX"
   },
   "outputs": [
    {
     "data": {
      "image/png": "[encoded data removed]",
      "text/plain": [
       "<Figure size 432x288 with 1 Axes>"
      ]
     },
     "metadata": {
      "needs_background": "light"
     },
     "output_type": "display_data"
    }
   ],
   "source": [
    "y_sep1 = lambda x: (-(perp.get_weights()[2] / perp.get_weights()[1]) / (perp.get_weights()[2] / perp.get_weights()[0]))*x + (-perp.get_weights()[2] / perp.get_weights()[1])\n",
    "plt.scatter(*X_1.T, c=y_1)\n",
    "plt.plot(np.array(sorted(X_1[:, 0], reverse=True)), y_sep1(np.array(sorted(X_1[:, 0], reverse=True))), label='Decision Line')\n",
    "plt.legend()\n",
    "plt.xlabel(\"x\")\n",
    "plt.ylabel(\"y\")\n",
    "plt.show()"
   ]
  },
  {
   "cell_type": "code",
   "execution_count": 103,
   "metadata": {},
   "outputs": [
    {
     "data": {
      "image/png": "[encoded data removed]",
      "text/plain": [
       "<Figure size 432x288 with 1 Axes>"
      ]
     },
     "metadata": {
      "needs_background": "light"
     },
     "output_type": "display_data"
    }
   ],
   "source": [
    "y_sep1 = lambda x: (-(perp1.get_weights()[2] / perp1.get_weights()[1]) / (perp1.get_weights()[2] / perp1.get_weights()[0]))*x + (-perp1.get_weights()[2] / perp1.get_weights()[1])\n",
    "plt.scatter(*X_2.T, c=y_1)\n",
    "plt.plot(np.array(sorted(X_2[:, 0], reverse=True)), y_sep1(np.array(sorted(X_2[:, 0], reverse=True))), label='Decision Line')\n",
    "plt.legend()\n",
    "plt.xlabel(\"x\")\n",
    "plt.ylabel(\"y\")\n",
    "plt.show()"
   ]
  },
  {
   "cell_type": "markdown",
   "metadata": {
    "id": "0ySvhd1lUGSe"
   },
   "source": [
    "## 5. (20%) Use your perceptron code to learn this version of the [voting data set](https://raw.githubusercontent.com/rmorain/CS472-1/master/datasets/perceptron/voting-dataset.arff).\n",
    "\n",
    "This particular task is an edited version of the standard voting set, where we have replaced all the “don’t know” values with the most common value for the particular attribute.  \n",
    "\n",
    "### 5.1 Create a table that reports the final training and test set accuracy and the number of epochs for each trial.\n",
    "\n",
    "- Try it five times with different random 70/30 splits. \n",
    "- Use your own code to randomize and make splits. \n",
    "- Report the average of these values for the 5 trials in the table.  \n",
    "\n",
    "| Trial | Training Accuracy | Test accuracy | Number of epochs |\n",
    "| --- | --- | --- | --- |\n",
    "| 1 | .95 | .55 | 4 |\n",
    "| Average each value by trial| | | \n",
    "\n",
    "*- As a rough sanity check, typical Perceptron test accuracies for the voting data set are 90%-98%.*\n"
   ]
  },
  {
   "cell_type": "code",
   "execution_count": 104,
   "metadata": {
    "id": "Romyl4G8Trki"
   },
   "outputs": [
    {
     "name": "stdout",
     "output_type": "stream",
     "text": [
      "  % Total    % Received % Xferd  Average Speed   Time    Time     Time  Current\n",
      "                                 Dload  Upload   Total   Spent    Left  Speed\n",
      "100 43825  100 43825    0     0  86269      0 --:--:-- --:--:-- --:--:-- 86100\n",
      "   Trial  Training Accuracy  Test Accuracy  Number of Epochs\n",
      "0      0           0.962733       0.935252                10\n",
      "1      1           0.965839       0.913669                10\n",
      "2      2           0.940994       0.956835                10\n",
      "3      3           0.959627       0.964029                10\n",
      "4      4           0.944099       0.935252                10\n"
     ]
    }
   ],
   "source": [
    "!curl https://raw.githubusercontent.com/rmorain/CS472-1/master/datasets/perceptron/voting-dataset.arff --output vote-dataset.arff\n",
    "dataset = arff.loadarff(\"datasets/voting-dataset.arff\")\n",
    "data = pd.DataFrame(dataset[0], dtype=str)\n",
    "X = data.drop(columns=['Class']).to_numpy()\n",
    "y = data['Class'].to_numpy()\n",
    "\n",
    "X = np.array([[1 if X[i][j]==\"b\\'y\\'\" else 0 for j in range(len(X[0]))] for i in range(len(X))])\n",
    "y = np.array([1 if y[i] == \"b'republican'\" else 0 for i in range(len(y))])\n",
    "cut_point = int(len(X) * 0.7)\n",
    "data = {'Trial':[], 'Training Accuracy':[], 'Test Accuracy':[], 'Number of Epochs':[]}\n",
    "misclass = []\n",
    "\n",
    "def shuffler(X, y):\n",
    "    z = np.column_stack([X, y])\n",
    "    np.random.shuffle(z)\n",
    "    return z[:,:-1], z[:,-1]\n",
    "\n",
    "for i in range(5):\n",
    "    data['Trial'].append(i)\n",
    "    X_1, y_1 = shuffler(X, y)\n",
    "    X_1_tr = X_1[:cut_point]\n",
    "    X_1_test = X_1[cut_point:]\n",
    "    y_1_tr = y_1[:cut_point]\n",
    "    y_1_test = y_1[cut_point:]\n",
    "\n",
    "    percep1 = PerceptronClassifier(.1, True)\n",
    "    percep1.fit(X_1_tr, y_1_tr, None)\n",
    "    data['Training Accuracy'].append(percep1.score(X_1_tr,y_1_tr))\n",
    "    data['Test Accuracy'].append(percep1.score(X_1_test,y_1_test))\n",
    "    data['Number of Epochs'].append(percep1.epochs)\n",
    "    misclass.append(percep1.misclass)\n",
    "\n",
    "df = pd.DataFrame(data)\n",
    "print(df)\n"
   ]
  },
  {
   "cell_type": "markdown",
   "metadata": {
    "id": "cm4rbWkzVeoR"
   },
   "source": [
    "### 5.2 By looking at the weights, explain what the model has learned and how the individual input features affect the result. Which specific features are most critical for the voting task, and which are least critical? \n"
   ]
  },
  {
   "cell_type": "code",
   "execution_count": 105,
   "metadata": {},
   "outputs": [
    {
     "name": "stdout",
     "output_type": "stream",
     "text": [
      "[-0.0316095  -0.18699937 -0.60526127  1.42111675  0.31300773 -0.05485847\n",
      "  0.1240559   0.30631737 -0.88315208  0.25909144 -0.86417912 -0.22710852\n",
      "  0.11706524 -0.08811063 -0.24584583  0.29204249 -0.80714164]\n"
     ]
    }
   ],
   "source": [
    "print(percep1.weights)"
   ]
  },
  {
   "cell_type": "markdown",
   "metadata": {
    "id": "g3F0Qp-BVi1R"
   },
   "source": [
    "The model seems to have learned which voting issue are the most partisan or biggest indicators of political party. Features that are most critical for the voting task are:\n",
    "- physician-fee-freeze\n",
    "- aid-to-nicaraguan-contras\n",
    "- synfuels-corporation-cutback\n",
    "- crime\n",
    "- export-administration-act-south-africa\n",
    "\n",
    "Features that are the least critical:\n",
    "- handicapped-infants\n",
    "- water-project-cost-sharing\n",
    "- superfund-right-to-sue"
   ]
  },
  {
   "cell_type": "markdown",
   "metadata": {
    "id": "NyUmJ4yWVsQ7"
   },
   "source": [
    "### 5.3 Make a graph of the average misclassification rate vs epochs (0th – final epoch).\n",
    "\n",
    "- Average the misclassification rate for the training set across your 5 trials (not across 5 epochs).\n",
    "\n",
    "\n",
    "![Average Misclassification Rate](https://raw.githubusercontent.com/rmorain/CS472-1/master/images/perceptron/avg_misclassification_rate_vs_epochs.png)"
   ]
  },
  {
   "cell_type": "code",
   "execution_count": 106,
   "metadata": {
    "id": "2_ZRPWWVVeFM"
   },
   "outputs": [
    {
     "data": {
      "image/png": "[encoded data removed]",
      "text/plain": [
       "<Figure size 432x288 with 1 Axes>"
      ]
     },
     "metadata": {
      "needs_background": "light"
     },
     "output_type": "display_data"
    }
   ],
   "source": [
    "# Graph here\n",
    "    \n",
    "def plot_misclassification(avg_misclassification_rate):\n",
    "    \"\"\"\n",
    "        Plots the average misclassification rate\n",
    "    Args:\n",
    "        avg_misclassification_rate (array-like): A 1D array or list\n",
    "    \"\"\"\n",
    "    plt.plot(np.arange(len(avg_misclassification_rate)), avg_misclassification_rate)\n",
    "    plt.title(\"Average Misclassification Rate vs. Epoch\")\n",
    "    plt.xlabel(\"Epoch\")\n",
    "    plt.ylabel(\"Misclassification Rate\")\n",
    "    plt.show()\n",
    "    \n",
    "avg_miss = np.mean(misclass, axis=0)\n",
    "plot_misclassification(avg_miss)"
   ]
  },
  {
   "cell_type": "markdown",
   "metadata": {
    "id": "oBBmeNQ7jvcQ"
   },
   "source": [
    "## 6. (10%) Use the perceptron algorithm from the [scikit-learn toolkit](https://scikit-learn.org/stable/modules/generated/sklearn.linear_model.Perceptron.html) to learn the voting task above and also one other data set of your choice.\n",
    "\n",
    "- Report and compare your results.\n",
    "- Try out some of the hyper-parameters that scikit-learn makes available on your own perceptron."
   ]
  },
  {
   "cell_type": "code",
   "execution_count": 107,
   "metadata": {
    "id": "OFQv70W2VyqJ"
   },
   "outputs": [
    {
     "name": "stdout",
     "output_type": "stream",
     "text": [
      "  % Total    % Received % Xferd  Average Speed   Time    Time     Time  Current\n",
      "                                 Dload  Upload   Total   Spent    Left  Speed\n",
      "100 43825  100 43825    0     0   260k      0 --:--:-- --:--:-- --:--:--  259k\n",
      "   Trial  Training Accuracy  Test Accuracy\n",
      "0      0           0.978261       0.928058\n",
      "1      1           0.978261       0.949640\n",
      "2      2           0.928571       0.899281\n",
      "3      3           0.950311       0.928058\n",
      "4      4           0.978261       0.928058\n"
     ]
    }
   ],
   "source": [
    "\n",
    "\n",
    "!curl https://raw.githubusercontent.com/rmorain/CS472-1/master/datasets/perceptron/voting-dataset.arff --output vote-dataset.arff\n",
    "dataset = arff.loadarff(\"datasets/voting-dataset.arff\")\n",
    "data = pd.DataFrame(dataset[0], dtype=str)\n",
    "X = data.drop(columns=['Class']).to_numpy()\n",
    "y = data['Class'].to_numpy()\n",
    "\n",
    "X = np.array([[1 if X[i][j]==\"b\\'y\\'\" else 0 for j in range(len(X[0]))] for i in range(len(X))])\n",
    "y = np.array([1 if y[i] == \"b'republican'\" else 0 for i in range(len(y))])\n",
    "cut_point = int(len(X) * 0.7)\n",
    "data = {'Trial':[], 'Training Accuracy':[], 'Test Accuracy':[]}\n",
    "misclass = []\n",
    "\n",
    "def shuffler(X, y):\n",
    "    z = np.column_stack([X, y])\n",
    "    np.random.shuffle(z)\n",
    "    return z[:,:-1], z[:,-1]\n",
    "\n",
    "for i in range(5):\n",
    "    data['Trial'].append(i)\n",
    "    X_1, y_1 = shuffler(X, y)\n",
    "    X_1_tr = X_1[:cut_point]\n",
    "    X_1_test = X_1[cut_point:]\n",
    "    y_1_tr = y_1[:cut_point]\n",
    "    y_1_test = y_1[cut_point:]\n",
    "\n",
    "    percep1 = Perceptron()\n",
    "    percep1.fit(X_1_tr, y_1_tr)\n",
    "    data['Training Accuracy'].append(percep1.score(X_1_tr,y_1_tr))\n",
    "    data['Test Accuracy'].append(percep1.score(X_1_test,y_1_test))\n",
    "\n",
    "df = pd.DataFrame(data)\n",
    "print(df)\n"
   ]
  },
  {
   "cell_type": "markdown",
   "metadata": {
    "id": "BqSFAXwlk3Ms"
   },
   "source": [
    "the differences in training Accuracy and test Accuracy between the scikit-learn perceptron algorithm and my own seemed very minimal. I can't tell a difference."
   ]
  },
  {
   "cell_type": "markdown",
   "metadata": {
    "id": "cTlK-kijk8Mg"
   },
   "source": [
    "## 7. (Optional 5% extra credit) Use the perceptron rule to learn the [iris task](https://raw.githubusercontent.com/cs472ta/CS472/master/datasets/iris.arff) or some other task with more than two possible output values. \n",
    "\n",
    "Note that the [iris data](https://raw.githubusercontent.com/cs472ta/CS472/master/datasets/iris.arff) set has 3 output classes, and a perceptron node only has two possible outputs.  You could implement either of the two most common ways to deal with this. For testing you just execute the novel instance on each model and combine the overall results to see which output class wins."
   ]
  },
  {
   "cell_type": "code",
   "execution_count": null,
   "metadata": {
    "id": "5iY77P7gk1Nh"
   },
   "outputs": [],
   "source": []
  }
 ],
 "metadata": {
  "colab": {
   "collapsed_sections": [],
   "name": "lab 1 - perceptron",
   "provenance": []
  },
  "kernelspec": {
   "display_name": "Python 3",
   "language": "python",
   "name": "python3"
  },
  "language_info": {
   "codemirror_mode": {
    "name": "ipython",
    "version": 3
   },
   "file_extension": ".py",
   "mimetype": "text/x-python",
   "name": "python",
   "nbconvert_exporter": "python",
   "pygments_lexer": "ipython3",
   "version": "3.8.5"
  }
 },
 "nbformat": 4,
 "nbformat_minor": 4
}
